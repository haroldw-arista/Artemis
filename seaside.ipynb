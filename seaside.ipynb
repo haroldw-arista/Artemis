{
  "nbformat": 4,
  "nbformat_minor": 0,
  "metadata": {
    "colab": {
      "name": "clearwater-ms.ipynb",
      "provenance": [],
      "collapsed_sections": [],
      "mount_file_id": "13ctk7yj6yFlv1eG5DSXmCDVqHUwk3Ywp",
      "authorship_tag": "ABX9TyPZKM1OjnSTPFQGuAS9faY/",
      "include_colab_link": true
    },
    "kernelspec": {
      "name": "python3",
      "display_name": "Python 3"
    },
    "language_info": {
      "name": "python"
    }
  },
  "cells": [
    {
      "cell_type": "markdown",
      "metadata": {
        "id": "view-in-github",
        "colab_type": "text"
      },
      "source": [
        "<a href=\"https://colab.research.google.com/github/haroldw-arista/Artemis/blob/main/seaside.ipynb\" target=\"_parent\"><img src=\"https://colab.research.google.com/assets/colab-badge.svg\" alt=\"Open In Colab\"/></a>"
      ]
    },
    {
      "cell_type": "code",
      "metadata": {
        "id": "a6FgniORxZxM"
      },
      "source": [
        "import pylab as pl\n",
        "import pandas as pd\n",
        "import numpy as np\n",
        "import matplotlib.pyplot as plt\n",
        "from datetime import datetime, timedelta\n",
        "  \n",
        "from pymongo import MongoClient"
      ],
      "execution_count": null,
      "outputs": []
    },
    {
      "cell_type": "code",
      "metadata": {
        "id": "wdoTS6PH0Pr9"
      },
      "source": [
        "df = pd.read_csv('Clearwater2Ms_speed-50000_rxcore-b52_txcore-b52.csv')\n",
        "df = df[df['skefDeGen'].notna()]\n",
        "coldDf = df[df['chamber_temperature']==0]\n",
        "roomDf = df[df['chamber_temperature']==25]\n",
        "hotDf = df[df['chamber_temperature']==50]"
      ],
      "execution_count": null,
      "outputs": []
    },
    {
      "cell_type": "code",
      "metadata": {
        "id": "r-q_VvXnGPJq"
      },
      "source": [
        "berBins = np.arange(-12,-4,1)"
      ],
      "execution_count": null,
      "outputs": []
    },
    {
      "cell_type": "code",
      "metadata": {
        "colab": {
          "base_uri": "https://localhost:8080/"
        },
        "id": "bSHBec3m0pjZ",
        "outputId": "b77ddf09-beed-4d65-f598-df2f9d53106e"
      },
      "source": [
        "# Let's look at all the lanes that have a BER greater than 1E-7 at ESS\n",
        "# We will look at the failure distribution per rx_lane\n",
        "berThreshold = -7\n",
        "tarDf = coldDf[coldDf['ber']>berThreshold]\n",
        "tarDf.loc[:, 'Count'] = 1"
      ],
      "execution_count": null,
      "outputs": [
        {
          "output_type": "stream",
          "text": [
            "/usr/local/lib/python3.7/dist-packages/pandas/core/indexing.py:1596: SettingWithCopyWarning: \n",
            "A value is trying to be set on a copy of a slice from a DataFrame.\n",
            "Try using .loc[row_indexer,col_indexer] = value instead\n",
            "\n",
            "See the caveats in the documentation: https://pandas.pydata.org/pandas-docs/stable/user_guide/indexing.html#returning-a-view-versus-a-copy\n",
            "  self.obj[key] = _infer_fill_value(value)\n",
            "/usr/local/lib/python3.7/dist-packages/pandas/core/indexing.py:1763: SettingWithCopyWarning: \n",
            "A value is trying to be set on a copy of a slice from a DataFrame.\n",
            "Try using .loc[row_indexer,col_indexer] = value instead\n",
            "\n",
            "See the caveats in the documentation: https://pandas.pydata.org/pandas-docs/stable/user_guide/indexing.html#returning-a-view-versus-a-copy\n",
            "  isetter(loc, value)\n"
          ],
          "name": "stderr"
        }
      ]
    },
    {
      "cell_type": "code",
      "metadata": {
        "colab": {
          "base_uri": "https://localhost:8080/"
        },
        "id": "pIAeUq5p4FTp",
        "outputId": "2352cd91-adb4-436b-d0be-1b3e7fd77169"
      },
      "source": [
        "tarDf.groupby(['rxlane_serdes']).count()['Count']"
      ],
      "execution_count": null,
      "outputs": [
        {
          "output_type": "execute_result",
          "data": {
            "text/plain": [
              "rxlane_serdes\n",
              "dies/0/lanes/1      4\n",
              "dies/0/lanes/10     2\n",
              "dies/0/lanes/2     57\n",
              "Name: Count, dtype: int64"
            ]
          },
          "metadata": {
            "tags": []
          },
          "execution_count": 57
        }
      ]
    },
    {
      "cell_type": "code",
      "metadata": {
        "id": "BzeIG9huBWwp"
      },
      "source": [
        "tarLane = 'dies/0/lanes/2'"
      ],
      "execution_count": null,
      "outputs": []
    },
    {
      "cell_type": "code",
      "metadata": {
        "id": "UnJhiLcgBlMW"
      },
      "source": [
        "def plotHistByLane(df, tarLane, temp, column, bins):\n",
        "  df.loc[(df['rxlane_serdes']==tarLane)&(df['chamber_temperature']==temp), column].hist(bins=bins)\n",
        "  plt.title(f'{tarLane} {column} Histogram at {temp}C')\n",
        "  plt.xlabel(column)\n",
        "  plt.ylabel('Count')"
      ],
      "execution_count": null,
      "outputs": []
    },
    {
      "cell_type": "code",
      "metadata": {
        "colab": {
          "base_uri": "https://localhost:8080/",
          "height": 295
        },
        "id": "IvurbvVACRdL",
        "outputId": "3326fd91-4cd1-4b56-a50f-70fbea45e988"
      },
      "source": [
        "plotHistByLane(df, tarLane, 50, 'ber', bins=berBins)"
      ],
      "execution_count": null,
      "outputs": [
        {
          "output_type": "display_data",
          "data": {
            "image/png": "[encoded data removed]",
            "text/plain": [
              "<Figure size 432x288 with 1 Axes>"
            ]
          },
          "metadata": {
            "tags": [],
            "needs_background": "light"
          }
        }
      ]
    },
    {
      "cell_type": "code",
      "metadata": {
        "colab": {
          "base_uri": "https://localhost:8080/",
          "height": 295
        },
        "id": "_ETQkZ-rCm9J",
        "outputId": "a2099244-a88c-4b81-a5aa-fe4b4599af31"
      },
      "source": [
        "plotHistByLane(df, tarLane, 25, 'ber', bins=berBins)"
      ],
      "execution_count": null,
      "outputs": [
        {
          "output_type": "display_data",
          "data": {
            "image/png": "[encoded data removed]",
            "text/plain": [
              "<Figure size 432x288 with 1 Axes>"
            ]
          },
          "metadata": {
            "tags": [],
            "needs_background": "light"
          }
        }
      ]
    },
    {
      "cell_type": "code",
      "metadata": {
        "colab": {
          "base_uri": "https://localhost:8080/",
          "height": 295
        },
        "id": "VPlpiK9zCp_U",
        "outputId": "db2d4d50-43b9-476e-afa3-394f674cb671"
      },
      "source": [
        "plotHistByLane(df, tarLane, 0, 'ber', bins=berBins)"
      ],
      "execution_count": null,
      "outputs": [
        {
          "output_type": "display_data",
          "data": {
            "image/png": "[encoded data removed]",
            "text/plain": [
              "<Figure size 432x288 with 1 Axes>"
            ]
          },
          "metadata": {
            "tags": [],
            "needs_background": "light"
          }
        }
      ]
    },
    {
      "cell_type": "code",
      "metadata": {
        "id": "iSSopnYGgLBK",
        "colab": {
          "base_uri": "https://localhost:8080/",
          "height": 295
        },
        "outputId": "e3392ae8-def5-4d8a-e451-927bf73e6452"
      },
      "source": [
        "plotHistByLane(df, 'dies/0/lanes/1', 50, 'ber', bins=berBins)"
      ],
      "execution_count": null,
      "outputs": [
        {
          "output_type": "display_data",
          "data": {
            "image/png": "[encoded data removed]",
            "text/plain": [
              "<Figure size 432x288 with 1 Axes>"
            ]
          },
          "metadata": {
            "tags": [],
            "needs_background": "light"
          }
        }
      ]
    },
    {
      "cell_type": "code",
      "metadata": {
        "colab": {
          "base_uri": "https://localhost:8080/",
          "height": 295
        },
        "id": "1rYc_8juf9ag",
        "outputId": "9a4bd342-edf6-45c8-f130-d24f9601ad11"
      },
      "source": [
        "plotHistByLane(df, 'dies/0/lanes/1', 25, 'ber', bins=berBins)"
      ],
      "execution_count": null,
      "outputs": [
        {
          "output_type": "display_data",
          "data": {
            "image/png": "[encoded data removed]",
            "text/plain": [
              "<Figure size 432x288 with 1 Axes>"
            ]
          },
          "metadata": {
            "tags": [],
            "needs_background": "light"
          }
        }
      ]
    },
    {
      "cell_type": "code",
      "metadata": {
        "colab": {
          "base_uri": "https://localhost:8080/",
          "height": 295
        },
        "id": "ZpWonwdsF1EW",
        "outputId": "cf62e8d5-d05d-42fb-8666-74df2e6978c5"
      },
      "source": [
        "plotHistByLane(df, 'dies/0/lanes/1', 0, 'ber', bins=berBins)"
      ],
      "execution_count": null,
      "outputs": [
        {
          "output_type": "display_data",
          "data": {
            "image/png": "[encoded data removed]",
            "text/plain": [
              "<Figure size 432x288 with 1 Axes>"
            ]
          },
          "metadata": {
            "tags": [],
            "needs_background": "light"
          }
        }
      ]
    },
    {
      "cell_type": "code",
      "metadata": {
        "colab": {
          "base_uri": "https://localhost:8080/"
        },
        "id": "DWB1ZbCbJppi",
        "outputId": "3a106ac2-e2e3-4cd1-f610-b6a54f2a9b67"
      },
      "source": [
        "df.loc[:, 'skefDeGen'].unique()"
      ],
      "execution_count": null,
      "outputs": [
        {
          "output_type": "execute_result",
          "data": {
            "text/plain": [
              "array([2., 5., 1., 4., 6., 7., 3., 0.])"
            ]
          },
          "metadata": {
            "tags": []
          },
          "execution_count": 66
        }
      ]
    },
    {
      "cell_type": "code",
      "metadata": {
        "colab": {
          "base_uri": "https://localhost:8080/",
          "height": 295
        },
        "id": "VX1VszJW0zKm",
        "outputId": "8231a908-4a78-49d5-98d8-11985d92ae59"
      },
      "source": [
        "# On this lane, the skefDeGen pararmeter is really scattered.\n",
        "skefDeGenBin = np.arange(0, 8, 1)\n",
        "plotHistByLane(df, tarLane, 0, 'skefDeGen', bins=skefDeGenBin)"
      ],
      "execution_count": null,
      "outputs": [
        {
          "output_type": "display_data",
          "data": {
            "image/png": "[encoded data removed]",
            "text/plain": [
              "<Figure size 432x288 with 1 Axes>"
            ]
          },
          "metadata": {
            "tags": [],
            "needs_background": "light"
          }
        }
      ]
    },
    {
      "cell_type": "code",
      "metadata": {
        "colab": {
          "base_uri": "https://localhost:8080/",
          "height": 295
        },
        "id": "ZBGsQ2z_LFa3",
        "outputId": "583e3fe3-dd26-4ac2-fb23-a3f906c80f5f"
      },
      "source": [
        "plotHistByLane(df, tarLane, 25, 'skefDeGen', bins=skefDeGenBin)"
      ],
      "execution_count": null,
      "outputs": [
        {
          "output_type": "display_data",
          "data": {
            "image/png": "[encoded data removed]",
            "text/plain": [
              "<Figure size 432x288 with 1 Axes>"
            ]
          },
          "metadata": {
            "tags": [],
            "needs_background": "light"
          }
        }
      ]
    },
    {
      "cell_type": "code",
      "metadata": {
        "colab": {
          "base_uri": "https://localhost:8080/",
          "height": 295
        },
        "id": "5u9ojbGwLIoi",
        "outputId": "eb5f5374-a233-45b2-f411-57d3eccc1be8"
      },
      "source": [
        "plotHistByLane(df, tarLane, 50, 'skefDeGen', bins=skefDeGenBin)"
      ],
      "execution_count": null,
      "outputs": [
        {
          "output_type": "display_data",
          "data": {
            "image/png": "[encoded data removed]",
            "text/plain": [
              "<Figure size 432x288 with 1 Axes>"
            ]
          },
          "metadata": {
            "tags": [],
            "needs_background": "light"
          }
        }
      ]
    },
    {
      "cell_type": "code",
      "metadata": {
        "colab": {
          "base_uri": "https://localhost:8080/",
          "height": 295
        },
        "id": "oOruebUzIQZA",
        "outputId": "7549fe90-ca9a-4f89-9871-d6b0374fd104"
      },
      "source": [
        "plotHistByLane(df, 'dies/0/lanes/1', 50, 'skefDeGen', bins=skefDeGenBin)"
      ],
      "execution_count": null,
      "outputs": [
        {
          "output_type": "display_data",
          "data": {
            "image/png": "[encoded data removed]",
            "text/plain": [
              "<Figure size 432x288 with 1 Axes>"
            ]
          },
          "metadata": {
            "tags": [],
            "needs_background": "light"
          }
        }
      ]
    },
    {
      "cell_type": "code",
      "metadata": {
        "colab": {
          "base_uri": "https://localhost:8080/",
          "height": 295
        },
        "id": "PCDJIZ2_8fXl",
        "outputId": "e934d73f-37f5-4aaa-9003-03da09657fc7"
      },
      "source": [
        "plotHistByLane(df, 'dies/0/lanes/1', 25, 'skefDeGen', bins=skefDeGenBin)"
      ],
      "execution_count": null,
      "outputs": [
        {
          "output_type": "display_data",
          "data": {
            "image/png": "[encoded data removed]",
            "text/plain": [
              "<Figure size 432x288 with 1 Axes>"
            ]
          },
          "metadata": {
            "tags": [],
            "needs_background": "light"
          }
        }
      ]
    },
    {
      "cell_type": "code",
      "metadata": {
        "colab": {
          "base_uri": "https://localhost:8080/",
          "height": 295
        },
        "id": "9C_dWPiZLW4M",
        "outputId": "8fc577ec-c6eb-4fe0-e286-23387be45818"
      },
      "source": [
        "plotHistByLane(df, 'dies/0/lanes/1', 0, 'skefDeGen', bins=skefDeGenBin)"
      ],
      "execution_count": null,
      "outputs": [
        {
          "output_type": "display_data",
          "data": {
            "image/png": "[encoded data removed]",
            "text/plain": [
              "<Figure size 432x288 with 1 Axes>"
            ]
          },
          "metadata": {
            "tags": [],
            "needs_background": "light"
          }
        }
      ]
    },
    {
      "cell_type": "code",
      "metadata": {
        "id": "L9XnYP9B8_Fw"
      },
      "source": [
        "rxColumns = ['ber',\t'ctle',\t'dcGains_agcGain1',\t'dcGains_agcGain2',\n",
        "             'dcGains_ffeGain1', 'dcGains_ffeGain2',\t'deltaPh',\n",
        "             'dfeTaps_f0',\t'dfeTaps_f1',\t'dfeTaps_f13',\t'eyeScore0',\n",
        "             'eyeScore1',\t'eyeScore2',\t'ffeTaps_k1',\n",
        "             'ffeTaps_k2',\t'ffeTaps_k3',\t'ffeTaps_k4',\t'ffeTaps_s1',\n",
        "             'ffeTaps_s2',\t'fwChannelEstimate',\t'fwOf',\t'hwHf',\n",
        "             'rxPllVcoCap',\t'rxPpm',\t'skefDeGen']"
      ],
      "execution_count": null,
      "outputs": []
    },
    {
      "cell_type": "code",
      "metadata": {
        "colab": {
          "base_uri": "https://localhost:8080/",
          "height": 317
        },
        "id": "EKKk8FWh80y_",
        "outputId": "3d0b429a-f1c6-467f-8564-fda4ab866a40"
      },
      "source": [
        "coldDf.loc[coldDf['rxlane_serdes']=='dies/0/lanes/2', rxColumns].describe()"
      ],
      "execution_count": null,
      "outputs": [
        {
          "output_type": "execute_result",
          "data": {
            "text/html": [
              "<div>\n",
              "<style scoped>\n",
              "    .dataframe tbody tr th:only-of-type {\n",
              "        vertical-align: middle;\n",
              "    }\n",
              "\n",
              "    .dataframe tbody tr th {\n",
              "        vertical-align: top;\n",
              "    }\n",
              "\n",
              "    .dataframe thead th {\n",
              "        text-align: right;\n",
              "    }\n",
              "</style>\n",
              "<table border=\"1\" class=\"dataframe\">\n",
              "  <thead>\n",
              "    <tr style=\"text-align: right;\">\n",
              "      <th></th>\n",
              "      <th>ber</th>\n",
              "      <th>ctle</th>\n",
              "      <th>dcGains_agcGain1</th>\n",
              "      <th>dcGains_agcGain2</th>\n",
              "      <th>dcGains_ffeGain1</th>\n",
              "      <th>dcGains_ffeGain2</th>\n",
              "      <th>deltaPh</th>\n",
              "      <th>dfeTaps_f0</th>\n",
              "      <th>dfeTaps_f1</th>\n",
              "      <th>dfeTaps_f13</th>\n",
              "      <th>eyeScore0</th>\n",
              "      <th>eyeScore1</th>\n",
              "      <th>eyeScore2</th>\n",
              "      <th>ffeTaps_k1</th>\n",
              "      <th>ffeTaps_k2</th>\n",
              "      <th>ffeTaps_k3</th>\n",
              "      <th>ffeTaps_k4</th>\n",
              "      <th>ffeTaps_s1</th>\n",
              "      <th>ffeTaps_s2</th>\n",
              "      <th>fwChannelEstimate</th>\n",
              "      <th>fwOf</th>\n",
              "      <th>hwHf</th>\n",
              "      <th>rxPllVcoCap</th>\n",
              "      <th>rxPpm</th>\n",
              "      <th>skefDeGen</th>\n",
              "    </tr>\n",
              "  </thead>\n",
              "  <tbody>\n",
              "    <tr>\n",
              "      <th>count</th>\n",
              "      <td>2712.000000</td>\n",
              "      <td>2712.000000</td>\n",
              "      <td>2712.000000</td>\n",
              "      <td>2712.00000</td>\n",
              "      <td>2712.0</td>\n",
              "      <td>2712.000000</td>\n",
              "      <td>2712.000000</td>\n",
              "      <td>2712.000000</td>\n",
              "      <td>2712.000000</td>\n",
              "      <td>2712.000000</td>\n",
              "      <td>2712.000000</td>\n",
              "      <td>2712.000000</td>\n",
              "      <td>2712.000000</td>\n",
              "      <td>2712.000000</td>\n",
              "      <td>2712.000000</td>\n",
              "      <td>2712.000000</td>\n",
              "      <td>2712.000000</td>\n",
              "      <td>2712.000000</td>\n",
              "      <td>2712.000000</td>\n",
              "      <td>2712.000000</td>\n",
              "      <td>2712.000000</td>\n",
              "      <td>2712.000000</td>\n",
              "      <td>2712.000000</td>\n",
              "      <td>2712.0</td>\n",
              "      <td>552.000000</td>\n",
              "    </tr>\n",
              "    <tr>\n",
              "      <th>mean</th>\n",
              "      <td>-8.640126</td>\n",
              "      <td>9.984145</td>\n",
              "      <td>13.136431</td>\n",
              "      <td>13.44764</td>\n",
              "      <td>8.0</td>\n",
              "      <td>8.002581</td>\n",
              "      <td>0.466077</td>\n",
              "      <td>0.749005</td>\n",
              "      <td>0.200580</td>\n",
              "      <td>4.625369</td>\n",
              "      <td>199.404130</td>\n",
              "      <td>210.805678</td>\n",
              "      <td>199.053097</td>\n",
              "      <td>105.817109</td>\n",
              "      <td>-0.282080</td>\n",
              "      <td>86.057522</td>\n",
              "      <td>2.101401</td>\n",
              "      <td>2.989676</td>\n",
              "      <td>4.620944</td>\n",
              "      <td>1.601312</td>\n",
              "      <td>46.573746</td>\n",
              "      <td>29.276549</td>\n",
              "      <td>29.324484</td>\n",
              "      <td>0.0</td>\n",
              "      <td>2.931159</td>\n",
              "    </tr>\n",
              "    <tr>\n",
              "      <th>std</th>\n",
              "      <td>1.851417</td>\n",
              "      <td>1.769196</td>\n",
              "      <td>6.569143</td>\n",
              "      <td>3.32249</td>\n",
              "      <td>0.0</td>\n",
              "      <td>0.134417</td>\n",
              "      <td>2.594640</td>\n",
              "      <td>0.029671</td>\n",
              "      <td>0.025561</td>\n",
              "      <td>0.792666</td>\n",
              "      <td>27.145625</td>\n",
              "      <td>15.482842</td>\n",
              "      <td>17.257615</td>\n",
              "      <td>23.960924</td>\n",
              "      <td>23.831104</td>\n",
              "      <td>100.996322</td>\n",
              "      <td>60.195002</td>\n",
              "      <td>1.309065</td>\n",
              "      <td>3.416298</td>\n",
              "      <td>0.151108</td>\n",
              "      <td>3.020845</td>\n",
              "      <td>3.052147</td>\n",
              "      <td>1.236727</td>\n",
              "      <td>0.0</td>\n",
              "      <td>1.438001</td>\n",
              "    </tr>\n",
              "    <tr>\n",
              "      <th>min</th>\n",
              "      <td>-15.000000</td>\n",
              "      <td>6.200000</td>\n",
              "      <td>1.000000</td>\n",
              "      <td>5.00000</td>\n",
              "      <td>8.0</td>\n",
              "      <td>8.000000</td>\n",
              "      <td>-6.000000</td>\n",
              "      <td>0.493652</td>\n",
              "      <td>0.007813</td>\n",
              "      <td>1.000000</td>\n",
              "      <td>-532.000000</td>\n",
              "      <td>-201.000000</td>\n",
              "      <td>17.000000</td>\n",
              "      <td>21.000000</td>\n",
              "      <td>-145.000000</td>\n",
              "      <td>-240.000000</td>\n",
              "      <td>-240.000000</td>\n",
              "      <td>1.000000</td>\n",
              "      <td>1.000000</td>\n",
              "      <td>0.890625</td>\n",
              "      <td>8.000000</td>\n",
              "      <td>8.000000</td>\n",
              "      <td>27.000000</td>\n",
              "      <td>0.0</td>\n",
              "      <td>0.000000</td>\n",
              "    </tr>\n",
              "    <tr>\n",
              "      <th>25%</th>\n",
              "      <td>-9.139904</td>\n",
              "      <td>9.200000</td>\n",
              "      <td>9.000000</td>\n",
              "      <td>11.00000</td>\n",
              "      <td>8.0</td>\n",
              "      <td>8.000000</td>\n",
              "      <td>-1.000000</td>\n",
              "      <td>0.729492</td>\n",
              "      <td>0.186328</td>\n",
              "      <td>4.000000</td>\n",
              "      <td>189.000000</td>\n",
              "      <td>203.000000</td>\n",
              "      <td>189.000000</td>\n",
              "      <td>112.000000</td>\n",
              "      <td>-4.000000</td>\n",
              "      <td>1.000000</td>\n",
              "      <td>-2.000000</td>\n",
              "      <td>1.000000</td>\n",
              "      <td>4.000000</td>\n",
              "      <td>1.484375</td>\n",
              "      <td>46.000000</td>\n",
              "      <td>27.000000</td>\n",
              "      <td>29.000000</td>\n",
              "      <td>0.0</td>\n",
              "      <td>2.000000</td>\n",
              "    </tr>\n",
              "    <tr>\n",
              "      <th>50%</th>\n",
              "      <td>-8.242109</td>\n",
              "      <td>10.600000</td>\n",
              "      <td>13.000000</td>\n",
              "      <td>14.00000</td>\n",
              "      <td>8.0</td>\n",
              "      <td>8.000000</td>\n",
              "      <td>0.000000</td>\n",
              "      <td>0.748535</td>\n",
              "      <td>0.202734</td>\n",
              "      <td>5.000000</td>\n",
              "      <td>197.000000</td>\n",
              "      <td>214.000000</td>\n",
              "      <td>197.000000</td>\n",
              "      <td>116.000000</td>\n",
              "      <td>-2.000000</td>\n",
              "      <td>31.000000</td>\n",
              "      <td>-2.000000</td>\n",
              "      <td>4.000000</td>\n",
              "      <td>4.000000</td>\n",
              "      <td>1.621094</td>\n",
              "      <td>47.000000</td>\n",
              "      <td>29.000000</td>\n",
              "      <td>29.000000</td>\n",
              "      <td>0.0</td>\n",
              "      <td>3.000000</td>\n",
              "    </tr>\n",
              "    <tr>\n",
              "      <th>75%</th>\n",
              "      <td>-7.516211</td>\n",
              "      <td>11.100000</td>\n",
              "      <td>18.000000</td>\n",
              "      <td>16.00000</td>\n",
              "      <td>8.0</td>\n",
              "      <td>8.000000</td>\n",
              "      <td>2.000000</td>\n",
              "      <td>0.766113</td>\n",
              "      <td>0.217676</td>\n",
              "      <td>5.000000</td>\n",
              "      <td>214.000000</td>\n",
              "      <td>223.000000</td>\n",
              "      <td>214.000000</td>\n",
              "      <td>120.000000</td>\n",
              "      <td>1.000000</td>\n",
              "      <td>191.000000</td>\n",
              "      <td>-2.000000</td>\n",
              "      <td>4.000000</td>\n",
              "      <td>4.000000</td>\n",
              "      <td>1.714844</td>\n",
              "      <td>48.000000</td>\n",
              "      <td>32.000000</td>\n",
              "      <td>31.000000</td>\n",
              "      <td>0.0</td>\n",
              "      <td>4.000000</td>\n",
              "    </tr>\n",
              "    <tr>\n",
              "      <th>max</th>\n",
              "      <td>-5.627204</td>\n",
              "      <td>14.400000</td>\n",
              "      <td>31.000000</td>\n",
              "      <td>21.00000</td>\n",
              "      <td>8.0</td>\n",
              "      <td>15.000000</td>\n",
              "      <td>9.000000</td>\n",
              "      <td>0.864258</td>\n",
              "      <td>0.271094</td>\n",
              "      <td>9.000000</td>\n",
              "      <td>257.000000</td>\n",
              "      <td>257.000000</td>\n",
              "      <td>262.000000</td>\n",
              "      <td>248.000000</td>\n",
              "      <td>141.000000</td>\n",
              "      <td>255.000000</td>\n",
              "      <td>255.000000</td>\n",
              "      <td>4.000000</td>\n",
              "      <td>15.000000</td>\n",
              "      <td>2.000000</td>\n",
              "      <td>54.000000</td>\n",
              "      <td>37.000000</td>\n",
              "      <td>33.000000</td>\n",
              "      <td>0.0</td>\n",
              "      <td>7.000000</td>\n",
              "    </tr>\n",
              "  </tbody>\n",
              "</table>\n",
              "</div>"
            ],
            "text/plain": [
              "               ber         ctle  ...   rxPpm   skefDeGen\n",
              "count  2712.000000  2712.000000  ...  2712.0  552.000000\n",
              "mean     -8.640126     9.984145  ...     0.0    2.931159\n",
              "std       1.851417     1.769196  ...     0.0    1.438001\n",
              "min     -15.000000     6.200000  ...     0.0    0.000000\n",
              "25%      -9.139904     9.200000  ...     0.0    2.000000\n",
              "50%      -8.242109    10.600000  ...     0.0    3.000000\n",
              "75%      -7.516211    11.100000  ...     0.0    4.000000\n",
              "max      -5.627204    14.400000  ...     0.0    7.000000\n",
              "\n",
              "[8 rows x 25 columns]"
            ]
          },
          "metadata": {
            "tags": []
          },
          "execution_count": 68
        }
      ]
    },
    {
      "cell_type": "code",
      "metadata": {
        "colab": {
          "base_uri": "https://localhost:8080/",
          "height": 317
        },
        "id": "s890Ttjv87bg",
        "outputId": "24765be6-246b-49f0-cd67-c9209179d713"
      },
      "source": [
        "coldDf.loc[coldDf['rxlane_serdes']=='dies/0/lanes/1', rxColumns].describe()"
      ],
      "execution_count": null,
      "outputs": [
        {
          "output_type": "execute_result",
          "data": {
            "text/html": [
              "<div>\n",
              "<style scoped>\n",
              "    .dataframe tbody tr th:only-of-type {\n",
              "        vertical-align: middle;\n",
              "    }\n",
              "\n",
              "    .dataframe tbody tr th {\n",
              "        vertical-align: top;\n",
              "    }\n",
              "\n",
              "    .dataframe thead th {\n",
              "        text-align: right;\n",
              "    }\n",
              "</style>\n",
              "<table border=\"1\" class=\"dataframe\">\n",
              "  <thead>\n",
              "    <tr style=\"text-align: right;\">\n",
              "      <th></th>\n",
              "      <th>ber</th>\n",
              "      <th>ctle</th>\n",
              "      <th>dcGains_agcGain1</th>\n",
              "      <th>dcGains_agcGain2</th>\n",
              "      <th>dcGains_ffeGain1</th>\n",
              "      <th>dcGains_ffeGain2</th>\n",
              "      <th>deltaPh</th>\n",
              "      <th>dfeTaps_f0</th>\n",
              "      <th>dfeTaps_f1</th>\n",
              "      <th>dfeTaps_f13</th>\n",
              "      <th>eyeScore0</th>\n",
              "      <th>eyeScore1</th>\n",
              "      <th>eyeScore2</th>\n",
              "      <th>ffeTaps_k1</th>\n",
              "      <th>ffeTaps_k2</th>\n",
              "      <th>ffeTaps_k3</th>\n",
              "      <th>ffeTaps_k4</th>\n",
              "      <th>ffeTaps_s1</th>\n",
              "      <th>ffeTaps_s2</th>\n",
              "      <th>fwChannelEstimate</th>\n",
              "      <th>fwOf</th>\n",
              "      <th>hwHf</th>\n",
              "      <th>rxPllVcoCap</th>\n",
              "      <th>rxPpm</th>\n",
              "      <th>skefDeGen</th>\n",
              "    </tr>\n",
              "  </thead>\n",
              "  <tbody>\n",
              "    <tr>\n",
              "      <th>count</th>\n",
              "      <td>2712.000000</td>\n",
              "      <td>2712.000000</td>\n",
              "      <td>2712.000000</td>\n",
              "      <td>2712.000000</td>\n",
              "      <td>2712.0</td>\n",
              "      <td>2712.000000</td>\n",
              "      <td>2712.000000</td>\n",
              "      <td>2712.000000</td>\n",
              "      <td>2712.000000</td>\n",
              "      <td>2712.000000</td>\n",
              "      <td>2712.000000</td>\n",
              "      <td>2712.000000</td>\n",
              "      <td>2712.000000</td>\n",
              "      <td>2712.000000</td>\n",
              "      <td>2712.000000</td>\n",
              "      <td>2712.000000</td>\n",
              "      <td>2712.000000</td>\n",
              "      <td>2712.000000</td>\n",
              "      <td>2712.000000</td>\n",
              "      <td>2712.000000</td>\n",
              "      <td>2712.000000</td>\n",
              "      <td>2712.000000</td>\n",
              "      <td>2712.000000</td>\n",
              "      <td>2712.0</td>\n",
              "      <td>552.000000</td>\n",
              "    </tr>\n",
              "    <tr>\n",
              "      <th>mean</th>\n",
              "      <td>-10.184754</td>\n",
              "      <td>9.650664</td>\n",
              "      <td>13.378687</td>\n",
              "      <td>12.744838</td>\n",
              "      <td>8.0</td>\n",
              "      <td>8.003687</td>\n",
              "      <td>3.325959</td>\n",
              "      <td>0.782026</td>\n",
              "      <td>0.169938</td>\n",
              "      <td>4.496313</td>\n",
              "      <td>210.557522</td>\n",
              "      <td>227.080752</td>\n",
              "      <td>206.397861</td>\n",
              "      <td>108.964602</td>\n",
              "      <td>-8.345501</td>\n",
              "      <td>62.024336</td>\n",
              "      <td>-58.235988</td>\n",
              "      <td>2.653761</td>\n",
              "      <td>3.874631</td>\n",
              "      <td>1.573041</td>\n",
              "      <td>46.724189</td>\n",
              "      <td>29.829646</td>\n",
              "      <td>29.362832</td>\n",
              "      <td>0.0</td>\n",
              "      <td>1.097826</td>\n",
              "    </tr>\n",
              "    <tr>\n",
              "      <th>std</th>\n",
              "      <td>1.699022</td>\n",
              "      <td>1.322168</td>\n",
              "      <td>6.746615</td>\n",
              "      <td>3.211896</td>\n",
              "      <td>0.0</td>\n",
              "      <td>0.146221</td>\n",
              "      <td>3.108505</td>\n",
              "      <td>0.038931</td>\n",
              "      <td>0.036423</td>\n",
              "      <td>0.612775</td>\n",
              "      <td>24.282922</td>\n",
              "      <td>21.368000</td>\n",
              "      <td>21.375856</td>\n",
              "      <td>24.391832</td>\n",
              "      <td>24.111762</td>\n",
              "      <td>80.030570</td>\n",
              "      <td>76.590821</td>\n",
              "      <td>1.419925</td>\n",
              "      <td>2.311214</td>\n",
              "      <td>0.102958</td>\n",
              "      <td>1.218584</td>\n",
              "      <td>1.997351</td>\n",
              "      <td>1.213926</td>\n",
              "      <td>0.0</td>\n",
              "      <td>0.826860</td>\n",
              "    </tr>\n",
              "    <tr>\n",
              "      <th>min</th>\n",
              "      <td>-15.000000</td>\n",
              "      <td>6.800000</td>\n",
              "      <td>1.000000</td>\n",
              "      <td>5.000000</td>\n",
              "      <td>8.0</td>\n",
              "      <td>8.000000</td>\n",
              "      <td>-6.000000</td>\n",
              "      <td>0.673828</td>\n",
              "      <td>-0.002734</td>\n",
              "      <td>3.000000</td>\n",
              "      <td>-437.000000</td>\n",
              "      <td>-330.000000</td>\n",
              "      <td>-472.000000</td>\n",
              "      <td>20.000000</td>\n",
              "      <td>-225.000000</td>\n",
              "      <td>-240.000000</td>\n",
              "      <td>-249.000000</td>\n",
              "      <td>1.000000</td>\n",
              "      <td>1.000000</td>\n",
              "      <td>1.285156</td>\n",
              "      <td>43.000000</td>\n",
              "      <td>25.000000</td>\n",
              "      <td>27.000000</td>\n",
              "      <td>0.0</td>\n",
              "      <td>0.000000</td>\n",
              "    </tr>\n",
              "    <tr>\n",
              "      <th>25%</th>\n",
              "      <td>-10.785860</td>\n",
              "      <td>9.200000</td>\n",
              "      <td>8.000000</td>\n",
              "      <td>10.000000</td>\n",
              "      <td>8.0</td>\n",
              "      <td>8.000000</td>\n",
              "      <td>1.000000</td>\n",
              "      <td>0.754395</td>\n",
              "      <td>0.145703</td>\n",
              "      <td>4.000000</td>\n",
              "      <td>197.000000</td>\n",
              "      <td>218.000000</td>\n",
              "      <td>197.000000</td>\n",
              "      <td>113.000000</td>\n",
              "      <td>-6.000000</td>\n",
              "      <td>16.000000</td>\n",
              "      <td>-83.000000</td>\n",
              "      <td>1.000000</td>\n",
              "      <td>4.000000</td>\n",
              "      <td>1.500000</td>\n",
              "      <td>46.000000</td>\n",
              "      <td>28.000000</td>\n",
              "      <td>29.000000</td>\n",
              "      <td>0.0</td>\n",
              "      <td>1.000000</td>\n",
              "    </tr>\n",
              "    <tr>\n",
              "      <th>50%</th>\n",
              "      <td>-9.884002</td>\n",
              "      <td>9.200000</td>\n",
              "      <td>12.000000</td>\n",
              "      <td>14.000000</td>\n",
              "      <td>8.0</td>\n",
              "      <td>8.000000</td>\n",
              "      <td>3.000000</td>\n",
              "      <td>0.777832</td>\n",
              "      <td>0.173828</td>\n",
              "      <td>4.000000</td>\n",
              "      <td>206.000000</td>\n",
              "      <td>232.000000</td>\n",
              "      <td>206.000000</td>\n",
              "      <td>118.000000</td>\n",
              "      <td>-2.000000</td>\n",
              "      <td>25.000000</td>\n",
              "      <td>-25.000000</td>\n",
              "      <td>3.000000</td>\n",
              "      <td>4.000000</td>\n",
              "      <td>1.585938</td>\n",
              "      <td>47.000000</td>\n",
              "      <td>30.000000</td>\n",
              "      <td>29.000000</td>\n",
              "      <td>0.0</td>\n",
              "      <td>1.000000</td>\n",
              "    </tr>\n",
              "    <tr>\n",
              "      <th>75%</th>\n",
              "      <td>-9.145728</td>\n",
              "      <td>10.600000</td>\n",
              "      <td>19.000000</td>\n",
              "      <td>16.000000</td>\n",
              "      <td>8.0</td>\n",
              "      <td>8.000000</td>\n",
              "      <td>5.000000</td>\n",
              "      <td>0.807129</td>\n",
              "      <td>0.196484</td>\n",
              "      <td>5.000000</td>\n",
              "      <td>223.000000</td>\n",
              "      <td>240.000000</td>\n",
              "      <td>218.000000</td>\n",
              "      <td>122.000000</td>\n",
              "      <td>-2.000000</td>\n",
              "      <td>79.000000</td>\n",
              "      <td>-2.000000</td>\n",
              "      <td>4.000000</td>\n",
              "      <td>4.000000</td>\n",
              "      <td>1.644531</td>\n",
              "      <td>48.000000</td>\n",
              "      <td>31.000000</td>\n",
              "      <td>31.000000</td>\n",
              "      <td>0.0</td>\n",
              "      <td>1.000000</td>\n",
              "    </tr>\n",
              "    <tr>\n",
              "      <th>max</th>\n",
              "      <td>-6.019583</td>\n",
              "      <td>13.700000</td>\n",
              "      <td>30.000000</td>\n",
              "      <td>19.000000</td>\n",
              "      <td>8.0</td>\n",
              "      <td>15.000000</td>\n",
              "      <td>15.000000</td>\n",
              "      <td>0.946289</td>\n",
              "      <td>0.265625</td>\n",
              "      <td>9.000000</td>\n",
              "      <td>266.000000</td>\n",
              "      <td>283.000000</td>\n",
              "      <td>266.000000</td>\n",
              "      <td>255.000000</td>\n",
              "      <td>75.000000</td>\n",
              "      <td>255.000000</td>\n",
              "      <td>79.000000</td>\n",
              "      <td>4.000000</td>\n",
              "      <td>15.000000</td>\n",
              "      <td>1.898438</td>\n",
              "      <td>57.000000</td>\n",
              "      <td>36.000000</td>\n",
              "      <td>33.000000</td>\n",
              "      <td>0.0</td>\n",
              "      <td>4.000000</td>\n",
              "    </tr>\n",
              "  </tbody>\n",
              "</table>\n",
              "</div>"
            ],
            "text/plain": [
              "               ber         ctle  ...   rxPpm   skefDeGen\n",
              "count  2712.000000  2712.000000  ...  2712.0  552.000000\n",
              "mean    -10.184754     9.650664  ...     0.0    1.097826\n",
              "std       1.699022     1.322168  ...     0.0    0.826860\n",
              "min     -15.000000     6.800000  ...     0.0    0.000000\n",
              "25%     -10.785860     9.200000  ...     0.0    1.000000\n",
              "50%      -9.884002     9.200000  ...     0.0    1.000000\n",
              "75%      -9.145728    10.600000  ...     0.0    1.000000\n",
              "max      -6.019583    13.700000  ...     0.0    4.000000\n",
              "\n",
              "[8 rows x 25 columns]"
            ]
          },
          "metadata": {
            "tags": []
          },
          "execution_count": 69
        }
      ]
    },
    {
      "cell_type": "code",
      "metadata": {
        "colab": {
          "base_uri": "https://localhost:8080/",
          "height": 317
        },
        "id": "p_crR3gA92p4",
        "outputId": "208c701b-c670-4d47-db8a-9b8e09e2e4ce"
      },
      "source": [
        "coldDf.loc[coldDf['rxlane_serdes']=='dies/0/lanes/3', rxColumns].describe()"
      ],
      "execution_count": null,
      "outputs": [
        {
          "output_type": "execute_result",
          "data": {
            "text/html": [
              "<div>\n",
              "<style scoped>\n",
              "    .dataframe tbody tr th:only-of-type {\n",
              "        vertical-align: middle;\n",
              "    }\n",
              "\n",
              "    .dataframe tbody tr th {\n",
              "        vertical-align: top;\n",
              "    }\n",
              "\n",
              "    .dataframe thead th {\n",
              "        text-align: right;\n",
              "    }\n",
              "</style>\n",
              "<table border=\"1\" class=\"dataframe\">\n",
              "  <thead>\n",
              "    <tr style=\"text-align: right;\">\n",
              "      <th></th>\n",
              "      <th>ber</th>\n",
              "      <th>ctle</th>\n",
              "      <th>dcGains_agcGain1</th>\n",
              "      <th>dcGains_agcGain2</th>\n",
              "      <th>dcGains_ffeGain1</th>\n",
              "      <th>dcGains_ffeGain2</th>\n",
              "      <th>deltaPh</th>\n",
              "      <th>dfeTaps_f0</th>\n",
              "      <th>dfeTaps_f1</th>\n",
              "      <th>dfeTaps_f13</th>\n",
              "      <th>eyeScore0</th>\n",
              "      <th>eyeScore1</th>\n",
              "      <th>eyeScore2</th>\n",
              "      <th>ffeTaps_k1</th>\n",
              "      <th>ffeTaps_k2</th>\n",
              "      <th>ffeTaps_k3</th>\n",
              "      <th>ffeTaps_k4</th>\n",
              "      <th>ffeTaps_s1</th>\n",
              "      <th>ffeTaps_s2</th>\n",
              "      <th>fwChannelEstimate</th>\n",
              "      <th>fwOf</th>\n",
              "      <th>hwHf</th>\n",
              "      <th>rxPllVcoCap</th>\n",
              "      <th>rxPpm</th>\n",
              "      <th>skefDeGen</th>\n",
              "    </tr>\n",
              "  </thead>\n",
              "  <tbody>\n",
              "    <tr>\n",
              "      <th>count</th>\n",
              "      <td>2712.000000</td>\n",
              "      <td>2712.000000</td>\n",
              "      <td>2712.000000</td>\n",
              "      <td>2712.000000</td>\n",
              "      <td>2712.0</td>\n",
              "      <td>2712.0</td>\n",
              "      <td>2712.000000</td>\n",
              "      <td>2712.000000</td>\n",
              "      <td>2712.000000</td>\n",
              "      <td>2712.000000</td>\n",
              "      <td>2712.000000</td>\n",
              "      <td>2712.000000</td>\n",
              "      <td>2712.000000</td>\n",
              "      <td>2712.000000</td>\n",
              "      <td>2712.000000</td>\n",
              "      <td>2712.000000</td>\n",
              "      <td>2712.000000</td>\n",
              "      <td>2712.000000</td>\n",
              "      <td>2712.000000</td>\n",
              "      <td>2712.000000</td>\n",
              "      <td>2712.000000</td>\n",
              "      <td>2712.000000</td>\n",
              "      <td>2712.000000</td>\n",
              "      <td>2712.0</td>\n",
              "      <td>552.000000</td>\n",
              "    </tr>\n",
              "    <tr>\n",
              "      <th>mean</th>\n",
              "      <td>-13.867221</td>\n",
              "      <td>8.822124</td>\n",
              "      <td>13.460177</td>\n",
              "      <td>11.471239</td>\n",
              "      <td>8.0</td>\n",
              "      <td>8.0</td>\n",
              "      <td>1.490413</td>\n",
              "      <td>0.762483</td>\n",
              "      <td>0.188809</td>\n",
              "      <td>4.198378</td>\n",
              "      <td>220.783923</td>\n",
              "      <td>228.058997</td>\n",
              "      <td>218.087758</td>\n",
              "      <td>98.597714</td>\n",
              "      <td>2.699484</td>\n",
              "      <td>49.097714</td>\n",
              "      <td>-115.146386</td>\n",
              "      <td>3.350295</td>\n",
              "      <td>3.421829</td>\n",
              "      <td>1.514366</td>\n",
              "      <td>46.726401</td>\n",
              "      <td>30.962389</td>\n",
              "      <td>29.300885</td>\n",
              "      <td>0.0</td>\n",
              "      <td>1.898551</td>\n",
              "    </tr>\n",
              "    <tr>\n",
              "      <th>std</th>\n",
              "      <td>1.835706</td>\n",
              "      <td>1.417141</td>\n",
              "      <td>6.216128</td>\n",
              "      <td>2.781596</td>\n",
              "      <td>0.0</td>\n",
              "      <td>0.0</td>\n",
              "      <td>2.959069</td>\n",
              "      <td>0.038633</td>\n",
              "      <td>0.035142</td>\n",
              "      <td>0.611965</td>\n",
              "      <td>28.961653</td>\n",
              "      <td>15.614861</td>\n",
              "      <td>16.434989</td>\n",
              "      <td>30.019778</td>\n",
              "      <td>7.513570</td>\n",
              "      <td>75.229831</td>\n",
              "      <td>92.547269</td>\n",
              "      <td>1.122721</td>\n",
              "      <td>1.820356</td>\n",
              "      <td>0.099997</td>\n",
              "      <td>2.244629</td>\n",
              "      <td>2.359920</td>\n",
              "      <td>1.263872</td>\n",
              "      <td>0.0</td>\n",
              "      <td>1.332491</td>\n",
              "    </tr>\n",
              "    <tr>\n",
              "      <th>min</th>\n",
              "      <td>-15.000000</td>\n",
              "      <td>6.200000</td>\n",
              "      <td>1.000000</td>\n",
              "      <td>5.000000</td>\n",
              "      <td>8.0</td>\n",
              "      <td>8.0</td>\n",
              "      <td>-6.000000</td>\n",
              "      <td>0.665039</td>\n",
              "      <td>0.058203</td>\n",
              "      <td>1.000000</td>\n",
              "      <td>-550.000000</td>\n",
              "      <td>-34.000000</td>\n",
              "      <td>35.000000</td>\n",
              "      <td>16.000000</td>\n",
              "      <td>-82.000000</td>\n",
              "      <td>-240.000000</td>\n",
              "      <td>-255.000000</td>\n",
              "      <td>1.000000</td>\n",
              "      <td>1.000000</td>\n",
              "      <td>0.875000</td>\n",
              "      <td>7.000000</td>\n",
              "      <td>7.000000</td>\n",
              "      <td>27.000000</td>\n",
              "      <td>0.0</td>\n",
              "      <td>0.000000</td>\n",
              "    </tr>\n",
              "    <tr>\n",
              "      <th>25%</th>\n",
              "      <td>-15.000000</td>\n",
              "      <td>7.600000</td>\n",
              "      <td>9.000000</td>\n",
              "      <td>9.000000</td>\n",
              "      <td>8.0</td>\n",
              "      <td>8.0</td>\n",
              "      <td>-1.000000</td>\n",
              "      <td>0.735352</td>\n",
              "      <td>0.166016</td>\n",
              "      <td>4.000000</td>\n",
              "      <td>210.000000</td>\n",
              "      <td>218.000000</td>\n",
              "      <td>206.000000</td>\n",
              "      <td>68.000000</td>\n",
              "      <td>-2.000000</td>\n",
              "      <td>1.000000</td>\n",
              "      <td>-240.000000</td>\n",
              "      <td>3.000000</td>\n",
              "      <td>1.000000</td>\n",
              "      <td>1.437500</td>\n",
              "      <td>46.000000</td>\n",
              "      <td>29.000000</td>\n",
              "      <td>29.000000</td>\n",
              "      <td>0.0</td>\n",
              "      <td>1.000000</td>\n",
              "    </tr>\n",
              "    <tr>\n",
              "      <th>50%</th>\n",
              "      <td>-15.000000</td>\n",
              "      <td>9.200000</td>\n",
              "      <td>13.000000</td>\n",
              "      <td>12.000000</td>\n",
              "      <td>8.0</td>\n",
              "      <td>8.0</td>\n",
              "      <td>1.000000</td>\n",
              "      <td>0.757324</td>\n",
              "      <td>0.193750</td>\n",
              "      <td>4.000000</td>\n",
              "      <td>218.000000</td>\n",
              "      <td>232.000000</td>\n",
              "      <td>214.000000</td>\n",
              "      <td>115.000000</td>\n",
              "      <td>1.000000</td>\n",
              "      <td>26.000000</td>\n",
              "      <td>-86.000000</td>\n",
              "      <td>4.000000</td>\n",
              "      <td>4.000000</td>\n",
              "      <td>1.535156</td>\n",
              "      <td>47.000000</td>\n",
              "      <td>31.000000</td>\n",
              "      <td>29.000000</td>\n",
              "      <td>0.0</td>\n",
              "      <td>2.000000</td>\n",
              "    </tr>\n",
              "    <tr>\n",
              "      <th>75%</th>\n",
              "      <td>-11.962572</td>\n",
              "      <td>9.200000</td>\n",
              "      <td>18.000000</td>\n",
              "      <td>14.000000</td>\n",
              "      <td>8.0</td>\n",
              "      <td>8.0</td>\n",
              "      <td>3.000000</td>\n",
              "      <td>0.786621</td>\n",
              "      <td>0.212891</td>\n",
              "      <td>4.000000</td>\n",
              "      <td>232.000000</td>\n",
              "      <td>240.000000</td>\n",
              "      <td>232.000000</td>\n",
              "      <td>119.000000</td>\n",
              "      <td>4.000000</td>\n",
              "      <td>71.000000</td>\n",
              "      <td>-33.000000</td>\n",
              "      <td>4.000000</td>\n",
              "      <td>4.000000</td>\n",
              "      <td>1.585938</td>\n",
              "      <td>48.000000</td>\n",
              "      <td>33.000000</td>\n",
              "      <td>31.000000</td>\n",
              "      <td>0.0</td>\n",
              "      <td>2.000000</td>\n",
              "    </tr>\n",
              "    <tr>\n",
              "      <th>max</th>\n",
              "      <td>-7.840987</td>\n",
              "      <td>11.100000</td>\n",
              "      <td>29.000000</td>\n",
              "      <td>18.000000</td>\n",
              "      <td>8.0</td>\n",
              "      <td>8.0</td>\n",
              "      <td>11.000000</td>\n",
              "      <td>0.906738</td>\n",
              "      <td>0.296484</td>\n",
              "      <td>8.000000</td>\n",
              "      <td>266.000000</td>\n",
              "      <td>290.000000</td>\n",
              "      <td>266.000000</td>\n",
              "      <td>191.000000</td>\n",
              "      <td>62.000000</td>\n",
              "      <td>255.000000</td>\n",
              "      <td>95.000000</td>\n",
              "      <td>4.000000</td>\n",
              "      <td>15.000000</td>\n",
              "      <td>1.769531</td>\n",
              "      <td>56.000000</td>\n",
              "      <td>37.000000</td>\n",
              "      <td>33.000000</td>\n",
              "      <td>0.0</td>\n",
              "      <td>7.000000</td>\n",
              "    </tr>\n",
              "  </tbody>\n",
              "</table>\n",
              "</div>"
            ],
            "text/plain": [
              "               ber         ctle  ...   rxPpm   skefDeGen\n",
              "count  2712.000000  2712.000000  ...  2712.0  552.000000\n",
              "mean    -13.867221     8.822124  ...     0.0    1.898551\n",
              "std       1.835706     1.417141  ...     0.0    1.332491\n",
              "min     -15.000000     6.200000  ...     0.0    0.000000\n",
              "25%     -15.000000     7.600000  ...     0.0    1.000000\n",
              "50%     -15.000000     9.200000  ...     0.0    2.000000\n",
              "75%     -11.962572     9.200000  ...     0.0    2.000000\n",
              "max      -7.840987    11.100000  ...     0.0    7.000000\n",
              "\n",
              "[8 rows x 25 columns]"
            ]
          },
          "metadata": {
            "tags": []
          },
          "execution_count": 70
        }
      ]
    }
  ]
}